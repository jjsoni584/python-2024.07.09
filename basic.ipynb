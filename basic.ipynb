{
 "cells": [
  {
   "cell_type": "code",
   "execution_count": 1,
   "metadata": {},
   "outputs": [
    {
     "data": {
      "text/plain": [
       "10"
      ]
     },
     "execution_count": 1,
     "metadata": {},
     "output_type": "execute_result"
    }
   ],
   "source": [
    "5 * 2"
   ]
  },
  {
   "cell_type": "code",
   "execution_count": 2,
   "metadata": {},
   "outputs": [
    {
     "data": {
      "text/plain": [
       "12"
      ]
     },
     "execution_count": 2,
     "metadata": {},
     "output_type": "execute_result"
    }
   ],
   "source": [
    "5 + 7"
   ]
  },
  {
   "cell_type": "code",
   "execution_count": 3,
   "metadata": {},
   "outputs": [
    {
     "data": {
      "text/plain": [
       "3"
      ]
     },
     "execution_count": 3,
     "metadata": {},
     "output_type": "execute_result"
    }
   ],
   "source": [
    "5 - 2"
   ]
  },
  {
   "cell_type": "code",
   "execution_count": 5,
   "metadata": {},
   "outputs": [
    {
     "data": {
      "text/plain": [
       "1"
      ]
     },
     "execution_count": 5,
     "metadata": {},
     "output_type": "execute_result"
    }
   ],
   "source": [
    "5 % 2"
   ]
  },
  {
   "cell_type": "code",
   "execution_count": 4,
   "metadata": {},
   "outputs": [
    {
     "data": {
      "text/plain": [
       "2"
      ]
     },
     "execution_count": 4,
     "metadata": {},
     "output_type": "execute_result"
    }
   ],
   "source": [
    "5 // 2"
   ]
  },
  {
   "cell_type": "markdown",
   "metadata": {},
   "source": [
    "### 산술 연산자\n",
    "- '+' : 더하기\n",
    "- '-' : 빼기\n",
    "- '*' : 곱하기\n",
    "- '/' : 나누기\n",
    "- '%' : 나머지\n",
    "- '//' : 몫 구하기\n",
    "- '**' : 거듭제곱\n"
   ]
  },
  {
   "cell_type": "markdown",
   "metadata": {},
   "source": [
    "### 비교 연산자\n",
    "- '>' : 크다\n",
    "- '>=' : 크거나 같다\n",
    "- '<' : 작다\n",
    "- '<=' : 작거나 같다 \n",
    "- '==' : 같다\n",
    "- '!=' : 다르다"
   ]
  },
  {
   "cell_type": "code",
   "execution_count": 6,
   "metadata": {},
   "outputs": [
    {
     "data": {
      "text/plain": [
       "True"
      ]
     },
     "execution_count": 6,
     "metadata": {},
     "output_type": "execute_result"
    }
   ],
   "source": [
    "5 > 2"
   ]
  },
  {
   "cell_type": "code",
   "execution_count": 7,
   "metadata": {},
   "outputs": [
    {
     "data": {
      "text/plain": [
       "True"
      ]
     },
     "execution_count": 7,
     "metadata": {},
     "output_type": "execute_result"
    }
   ],
   "source": [
    "5 >= 2"
   ]
  },
  {
   "cell_type": "code",
   "execution_count": 8,
   "metadata": {},
   "outputs": [
    {
     "data": {
      "text/plain": [
       "False"
      ]
     },
     "execution_count": 8,
     "metadata": {},
     "output_type": "execute_result"
    }
   ],
   "source": [
    "5 < 2"
   ]
  },
  {
   "cell_type": "markdown",
   "metadata": {},
   "source": [
    "### 논리 연산자\n",
    "- and: 논리 곱\n",
    "- or : 논리 합\n",
    "- not : 논리 부정"
   ]
  },
  {
   "cell_type": "code",
   "execution_count": 9,
   "metadata": {},
   "outputs": [
    {
     "data": {
      "text/plain": [
       "True"
      ]
     },
     "execution_count": 9,
     "metadata": {},
     "output_type": "execute_result"
    }
   ],
   "source": [
    "True and True"
   ]
  },
  {
   "cell_type": "code",
   "execution_count": 10,
   "metadata": {},
   "outputs": [
    {
     "data": {
      "text/plain": [
       "False"
      ]
     },
     "execution_count": 10,
     "metadata": {},
     "output_type": "execute_result"
    }
   ],
   "source": [
    "(5 > 2) and (5 <= 2)"
   ]
  },
  {
   "cell_type": "code",
   "execution_count": 11,
   "metadata": {},
   "outputs": [
    {
     "data": {
      "text/plain": [
       "True"
      ]
     },
     "execution_count": 11,
     "metadata": {},
     "output_type": "execute_result"
    }
   ],
   "source": [
    "True or False"
   ]
  },
  {
   "cell_type": "code",
   "execution_count": 12,
   "metadata": {},
   "outputs": [
    {
     "data": {
      "text/plain": [
       "True"
      ]
     },
     "execution_count": 12,
     "metadata": {},
     "output_type": "execute_result"
    }
   ],
   "source": [
    "(5 > 2) or (5 <= 2)"
   ]
  },
  {
   "cell_type": "code",
   "execution_count": 13,
   "metadata": {},
   "outputs": [
    {
     "data": {
      "text/plain": [
       "False"
      ]
     },
     "execution_count": 13,
     "metadata": {},
     "output_type": "execute_result"
    }
   ],
   "source": [
    "not True"
   ]
  },
  {
   "cell_type": "code",
   "execution_count": 14,
   "metadata": {},
   "outputs": [
    {
     "data": {
      "text/plain": [
       "True"
      ]
     },
     "execution_count": 14,
     "metadata": {},
     "output_type": "execute_result"
    }
   ],
   "source": [
    "not (5 <= 2)"
   ]
  },
  {
   "cell_type": "markdown",
   "metadata": {},
   "source": [
    "### 변수\n",
    "데이터를 저장하는 공간\n",
    "파이썬에서는 변수의 특정 데이터 타입이 존재하지 않음\n",
    "즉, 하나의 변수에 여러 데이터 타입을 할당할 수 있음"
   ]
  },
  {
   "cell_type": "code",
   "execution_count": 15,
   "metadata": {},
   "outputs": [
    {
     "data": {
      "text/plain": [
       "10"
      ]
     },
     "execution_count": 15,
     "metadata": {},
     "output_type": "execute_result"
    }
   ],
   "source": [
    "variable = 10\n",
    "variable"
   ]
  },
  {
   "cell_type": "code",
   "execution_count": 16,
   "metadata": {},
   "outputs": [
    {
     "data": {
      "text/plain": [
       "True"
      ]
     },
     "execution_count": 16,
     "metadata": {},
     "output_type": "execute_result"
    }
   ],
   "source": [
    "variable = True\n",
    "variable"
   ]
  },
  {
   "cell_type": "code",
   "execution_count": 17,
   "metadata": {},
   "outputs": [
    {
     "data": {
      "text/plain": [
       "10.0"
      ]
     },
     "execution_count": 17,
     "metadata": {},
     "output_type": "execute_result"
    }
   ],
   "source": [
    "variable = 10.0\n",
    "variable"
   ]
  },
  {
   "cell_type": "code",
   "execution_count": 18,
   "metadata": {},
   "outputs": [
    {
     "data": {
      "text/plain": [
       "0.13"
      ]
     },
     "execution_count": 18,
     "metadata": {},
     "output_type": "execute_result"
    }
   ],
   "source": [
    "# variable = 0.13\n",
    "variable = .13\n",
    "variable"
   ]
  },
  {
   "cell_type": "markdown",
   "metadata": {},
   "source": [
    "### 데이터타입\n",
    "- 정수형\n",
    "- 실수형\n",
    "- 문자열\n",
    "- 논리형\n"
   ]
  },
  {
   "cell_type": "code",
   "execution_count": 19,
   "metadata": {},
   "outputs": [
    {
     "data": {
      "text/plain": [
       "int"
      ]
     },
     "execution_count": 19,
     "metadata": {},
     "output_type": "execute_result"
    }
   ],
   "source": [
    "type(10)"
   ]
  },
  {
   "cell_type": "code",
   "execution_count": 20,
   "metadata": {},
   "outputs": [
    {
     "data": {
      "text/plain": [
       "float"
      ]
     },
     "execution_count": 20,
     "metadata": {},
     "output_type": "execute_result"
    }
   ],
   "source": [
    "type(10.0)"
   ]
  },
  {
   "cell_type": "code",
   "execution_count": 21,
   "metadata": {},
   "outputs": [
    {
     "data": {
      "text/plain": [
       "bool"
      ]
     },
     "execution_count": 21,
     "metadata": {},
     "output_type": "execute_result"
    }
   ],
   "source": [
    "type(True)"
   ]
  },
  {
   "cell_type": "code",
   "execution_count": 22,
   "metadata": {},
   "outputs": [
    {
     "data": {
      "text/plain": [
       "str"
      ]
     },
     "execution_count": 22,
     "metadata": {},
     "output_type": "execute_result"
    }
   ],
   "source": [
    "type('문자열')"
   ]
  },
  {
   "cell_type": "markdown",
   "metadata": {},
   "source": [
    "### 데이터 타입 변환\n",
    "- int() : 특정 데이터를 정수형으로 변환\n",
    "- float() : 특정 데이터를 실수형으로 변환\n",
    "- bool() : 특정 데이터를 논리형으로 변환\n",
    "- str() : 특정 데이터를 문자열으로 변환"
   ]
  },
  {
   "cell_type": "code",
   "execution_count": 23,
   "metadata": {},
   "outputs": [
    {
     "data": {
      "text/plain": [
       "10"
      ]
     },
     "execution_count": 23,
     "metadata": {},
     "output_type": "execute_result"
    }
   ],
   "source": [
    "int(10.34)"
   ]
  },
  {
   "cell_type": "code",
   "execution_count": 24,
   "metadata": {},
   "outputs": [
    {
     "data": {
      "text/plain": [
       "1"
      ]
     },
     "execution_count": 24,
     "metadata": {},
     "output_type": "execute_result"
    }
   ],
   "source": [
    "int(True)"
   ]
  },
  {
   "cell_type": "code",
   "execution_count": 25,
   "metadata": {},
   "outputs": [
    {
     "data": {
      "text/plain": [
       "0"
      ]
     },
     "execution_count": 25,
     "metadata": {},
     "output_type": "execute_result"
    }
   ],
   "source": [
    "int(False)"
   ]
  },
  {
   "cell_type": "code",
   "execution_count": 26,
   "metadata": {},
   "outputs": [
    {
     "data": {
      "text/plain": [
       "10"
      ]
     },
     "execution_count": 26,
     "metadata": {},
     "output_type": "execute_result"
    }
   ],
   "source": [
    "int(10)"
   ]
  },
  {
   "cell_type": "code",
   "execution_count": 28,
   "metadata": {},
   "outputs": [
    {
     "ename": "ValueError",
     "evalue": "invalid literal for int() with base 10: '10.4'",
     "output_type": "error",
     "traceback": [
      "\u001b[1;31m---------------------------------------------------------------------------\u001b[0m",
      "\u001b[1;31mValueError\u001b[0m                                Traceback (most recent call last)",
      "Cell \u001b[1;32mIn[28], line 1\u001b[0m\n\u001b[1;32m----> 1\u001b[0m \u001b[38;5;28;43mint\u001b[39;49m\u001b[43m(\u001b[49m\u001b[38;5;124;43m'\u001b[39;49m\u001b[38;5;124;43m10.4\u001b[39;49m\u001b[38;5;124;43m'\u001b[39;49m\u001b[43m)\u001b[49m\n",
      "\u001b[1;31mValueError\u001b[0m: invalid literal for int() with base 10: '10.4'"
     ]
    }
   ],
   "source": [
    "int('10.4')"
   ]
  },
  {
   "cell_type": "code",
   "execution_count": 27,
   "metadata": {},
   "outputs": [
    {
     "data": {
      "text/plain": [
       "10.0"
      ]
     },
     "execution_count": 27,
     "metadata": {},
     "output_type": "execute_result"
    }
   ],
   "source": [
    "float(10)"
   ]
  },
  {
   "cell_type": "code",
   "execution_count": 29,
   "metadata": {},
   "outputs": [
    {
     "data": {
      "text/plain": [
       "1.0"
      ]
     },
     "execution_count": 29,
     "metadata": {},
     "output_type": "execute_result"
    }
   ],
   "source": [
    "float(True)"
   ]
  },
  {
   "cell_type": "code",
   "execution_count": 30,
   "metadata": {},
   "outputs": [
    {
     "data": {
      "text/plain": [
       "0.0"
      ]
     },
     "execution_count": 30,
     "metadata": {},
     "output_type": "execute_result"
    }
   ],
   "source": [
    "float(False)"
   ]
  },
  {
   "cell_type": "code",
   "execution_count": 31,
   "metadata": {},
   "outputs": [
    {
     "data": {
      "text/plain": [
       "10.0"
      ]
     },
     "execution_count": 31,
     "metadata": {},
     "output_type": "execute_result"
    }
   ],
   "source": [
    "float('10')"
   ]
  },
  {
   "cell_type": "code",
   "execution_count": 32,
   "metadata": {},
   "outputs": [
    {
     "ename": "ValueError",
     "evalue": "could not convert string to float: 'a'",
     "output_type": "error",
     "traceback": [
      "\u001b[1;31m---------------------------------------------------------------------------\u001b[0m",
      "\u001b[1;31mValueError\u001b[0m                                Traceback (most recent call last)",
      "Cell \u001b[1;32mIn[32], line 1\u001b[0m\n\u001b[1;32m----> 1\u001b[0m \u001b[38;5;28;43mfloat\u001b[39;49m\u001b[43m(\u001b[49m\u001b[38;5;124;43m'\u001b[39;49m\u001b[38;5;124;43ma\u001b[39;49m\u001b[38;5;124;43m'\u001b[39;49m\u001b[43m)\u001b[49m\n",
      "\u001b[1;31mValueError\u001b[0m: could not convert string to float: 'a'"
     ]
    }
   ],
   "source": [
    "float('a')"
   ]
  },
  {
   "cell_type": "code",
   "execution_count": 33,
   "metadata": {},
   "outputs": [
    {
     "data": {
      "text/plain": [
       "True"
      ]
     },
     "execution_count": 33,
     "metadata": {},
     "output_type": "execute_result"
    }
   ],
   "source": [
    "bool(10)"
   ]
  },
  {
   "cell_type": "code",
   "execution_count": 35,
   "metadata": {},
   "outputs": [
    {
     "data": {
      "text/plain": [
       "False"
      ]
     },
     "execution_count": 35,
     "metadata": {},
     "output_type": "execute_result"
    }
   ],
   "source": [
    "bool('')"
   ]
  },
  {
   "cell_type": "code",
   "execution_count": 36,
   "metadata": {},
   "outputs": [
    {
     "data": {
      "text/plain": [
       "'True'"
      ]
     },
     "execution_count": 36,
     "metadata": {},
     "output_type": "execute_result"
    }
   ],
   "source": [
    "str(True)"
   ]
  },
  {
   "cell_type": "code",
   "execution_count": 37,
   "metadata": {},
   "outputs": [
    {
     "data": {
      "text/plain": [
       "'10'"
      ]
     },
     "execution_count": 37,
     "metadata": {},
     "output_type": "execute_result"
    }
   ],
   "source": [
    "str(10)"
   ]
  },
  {
   "cell_type": "markdown",
   "metadata": {},
   "source": [
    "### NaN, Inf\n",
    "- NaN(Not a Number) : 숫자가 아님을 나타냄\n",
    "- Inf(Infinity) : 무한대"
   ]
  },
  {
   "cell_type": "code",
   "execution_count": 38,
   "metadata": {},
   "outputs": [
    {
     "data": {
      "text/plain": [
       "nan"
      ]
     },
     "execution_count": 38,
     "metadata": {},
     "output_type": "execute_result"
    }
   ],
   "source": [
    "float('NaN')"
   ]
  },
  {
   "cell_type": "code",
   "execution_count": 39,
   "metadata": {},
   "outputs": [
    {
     "data": {
      "text/plain": [
       "inf"
      ]
     },
     "execution_count": 39,
     "metadata": {},
     "output_type": "execute_result"
    }
   ],
   "source": [
    "float('Inf')"
   ]
  },
  {
   "cell_type": "code",
   "execution_count": 40,
   "metadata": {},
   "outputs": [
    {
     "data": {
      "text/plain": [
       "-inf"
      ]
     },
     "execution_count": 40,
     "metadata": {},
     "output_type": "execute_result"
    }
   ],
   "source": [
    "float('-Inf')"
   ]
  },
  {
   "cell_type": "markdown",
   "metadata": {},
   "source": [
    "### 대입 연산자\n",
    "- '=' : 좌항에 우항을 대입\n",
    "- '+=' : 좌항에 좌항값에 우항을 더한 값을 대입\n",
    "- '-=' : 좌항에 좌항값에 우항을 뺀 값을 대입\n",
    "- '*=' : 좌항에 좌항값에 우항을 곱한 값을 대입\n",
    "- '/=' : 좌항에 좌항값에 우항을 나눈 값을 대입\n",
    "- '**=' : 좌항에 좌항값에 우항을 거듭제곱한 값을 대입\n",
    "- '//=' : 좌항에 좌항값에 우항을 나눈몫 값을 대입\n",
    "\n",
    "### 파이썬은 증감연산자가 존재하지 않음\n",
    "증감을 표현하고 싶으면  \n",
    "변수 += 1, 변수 -= 1"
   ]
  },
  {
   "cell_type": "code",
   "execution_count": 41,
   "metadata": {},
   "outputs": [],
   "source": [
    "variable = 10"
   ]
  },
  {
   "cell_type": "code",
   "execution_count": 42,
   "metadata": {},
   "outputs": [
    {
     "data": {
      "text/plain": [
       "13"
      ]
     },
     "execution_count": 42,
     "metadata": {},
     "output_type": "execute_result"
    }
   ],
   "source": [
    "variable += 3\n",
    "variable"
   ]
  },
  {
   "cell_type": "code",
   "execution_count": 43,
   "metadata": {},
   "outputs": [
    {
     "data": {
      "text/plain": [
       "39"
      ]
     },
     "execution_count": 43,
     "metadata": {},
     "output_type": "execute_result"
    }
   ],
   "source": [
    "variable *= 3\n",
    "variable"
   ]
  },
  {
   "cell_type": "code",
   "execution_count": 44,
   "metadata": {},
   "outputs": [
    {
     "data": {
      "text/plain": [
       "13"
      ]
     },
     "execution_count": 44,
     "metadata": {},
     "output_type": "execute_result"
    }
   ],
   "source": [
    "variable //= 3\n",
    "variable"
   ]
  },
  {
   "cell_type": "markdown",
   "metadata": {},
   "source": [
    "### 문자열\n",
    "\n",
    "- 출력 : print() 함수로 문자열 출력\n",
    "- 문자열 연산 : + 연결, * 반복\n",
    "- 타 데이터 타입과 연결 : 반드시 타 데이터 타입을 str() 형변환 함수로 변형 후 연결해야 함\n",
    "- 문자열 : '혹은 \" 로 묶어서 표현, \n",
    "- 여러줄의 문자열 : '''혹은 \"\"\"로 표현\n",
    "- 문자열 치환 : .replace() 문자열 메서드로 특정 문자열을 변경 가능\n",
    "- f문자열 : 문자열 앞에 f라는 키워드를 붙여서 문자열의 포멧을 만들어 사용 가능"
   ]
  },
  {
   "cell_type": "code",
   "execution_count": 45,
   "metadata": {},
   "outputs": [
    {
     "name": "stdout",
     "output_type": "stream",
     "text": [
      "문자열\n"
     ]
    }
   ],
   "source": [
    "print('문자열')"
   ]
  },
  {
   "cell_type": "code",
   "execution_count": 46,
   "metadata": {},
   "outputs": [
    {
     "name": "stdout",
     "output_type": "stream",
     "text": [
      "문자열1\n",
      "문자열2\n"
     ]
    }
   ],
   "source": [
    "string1 = '문자열1'\n",
    "print(string1)\n",
    "string2 = '문자열2'\n",
    "print(string2)"
   ]
  },
  {
   "cell_type": "code",
   "execution_count": 47,
   "metadata": {},
   "outputs": [
    {
     "data": {
      "text/plain": [
       "'문자열1문자열2'"
      ]
     },
     "execution_count": 47,
     "metadata": {},
     "output_type": "execute_result"
    }
   ],
   "source": [
    "string1 + string2"
   ]
  },
  {
   "cell_type": "code",
   "execution_count": 50,
   "metadata": {},
   "outputs": [
    {
     "data": {
      "text/plain": [
       "'문자열1문자열1문자열1문자열1문자열1'"
      ]
     },
     "execution_count": 50,
     "metadata": {},
     "output_type": "execute_result"
    }
   ],
   "source": [
    "string1 * 5"
   ]
  },
  {
   "cell_type": "code",
   "execution_count": 52,
   "metadata": {},
   "outputs": [],
   "source": [
    "integer = 10"
   ]
  },
  {
   "cell_type": "code",
   "execution_count": 54,
   "metadata": {},
   "outputs": [
    {
     "data": {
      "text/plain": [
       "'문자열110문자열2'"
      ]
     },
     "execution_count": 54,
     "metadata": {},
     "output_type": "execute_result"
    }
   ],
   "source": [
    "string1 + str(integer) + string2"
   ]
  },
  {
   "cell_type": "code",
   "execution_count": 55,
   "metadata": {},
   "outputs": [
    {
     "name": "stdout",
     "output_type": "stream",
     "text": [
      "안녕하세요\n",
      "반갑습니다\n"
     ]
    }
   ],
   "source": [
    "print('안녕하세요\\n반갑습니다')"
   ]
  },
  {
   "cell_type": "code",
   "execution_count": 56,
   "metadata": {},
   "outputs": [
    {
     "name": "stdout",
     "output_type": "stream",
     "text": [
      "안녕하세요\n",
      "반갑습니다\n"
     ]
    }
   ],
   "source": [
    "statement = '''안녕하세요\n",
    "반갑습니다'''\n",
    "\n",
    "print(statement)"
   ]
  },
  {
   "cell_type": "code",
   "execution_count": 2,
   "metadata": {},
   "outputs": [
    {
     "name": "stdout",
     "output_type": "stream",
     "text": [
      "이성계의 나이는 56입니다.\n",
      "이성계의 나이는 56입니다.\n"
     ]
    }
   ],
   "source": [
    "name = '이성계'\n",
    "age = 56\n",
    "\n",
    "print(str(name) + '의 나이는 ' + str(age) + '입니다.')\n",
    "print(f'{name}의 나이는 {age}입니다.')"
   ]
  },
  {
   "cell_type": "code",
   "execution_count": 3,
   "metadata": {},
   "outputs": [
    {
     "data": {
      "text/plain": [
       "'                abcd'"
      ]
     },
     "execution_count": 3,
     "metadata": {},
     "output_type": "execute_result"
    }
   ],
   "source": [
    "f'{'abcd':>20}'"
   ]
  },
  {
   "cell_type": "code",
   "execution_count": 4,
   "metadata": {},
   "outputs": [
    {
     "data": {
      "text/plain": [
       "'abcd0000000000000000'"
      ]
     },
     "execution_count": 4,
     "metadata": {},
     "output_type": "execute_result"
    }
   ],
   "source": [
    "f'{'abcd':0<20}'"
   ]
  },
  {
   "cell_type": "code",
   "execution_count": 5,
   "metadata": {},
   "outputs": [
    {
     "data": {
      "text/plain": [
       "'0000000000000000abcd'"
      ]
     },
     "execution_count": 5,
     "metadata": {},
     "output_type": "execute_result"
    }
   ],
   "source": [
    "f'{'abcd':0>20}'"
   ]
  },
  {
   "cell_type": "code",
   "execution_count": 8,
   "metadata": {},
   "outputs": [
    {
     "data": {
      "text/plain": [
       "'0000000000000002,345'"
      ]
     },
     "execution_count": 8,
     "metadata": {},
     "output_type": "execute_result"
    }
   ],
   "source": [
    "f'{2345:0>20,}'"
   ]
  },
  {
   "cell_type": "markdown",
   "metadata": {},
   "source": [
    "### 조건문\n",
    "#### if문\n",
    "'''python\n",
    "if 조건 논리표현식:\n",
    "    조건이 참일때 실행할 구문\n",
    "'''"
   ]
  },
  {
   "cell_type": "code",
   "execution_count": 9,
   "metadata": {},
   "outputs": [],
   "source": [
    "number = 1234"
   ]
  },
  {
   "cell_type": "markdown",
   "metadata": {},
   "source": [
    "### else 문\n",
    "'''python\n",
    "if 조건 논리 표현식:\n",
    "    조건이 참일때 실행할 구문\n",
    "else:\n",
    "    조건이 거짓일때 실행할 구문\n",
    "'''"
   ]
  },
  {
   "cell_type": "code",
   "execution_count": 10,
   "metadata": {},
   "outputs": [
    {
     "name": "stdout",
     "output_type": "stream",
     "text": [
      "짝수\n"
     ]
    }
   ],
   "source": [
    "if(number % 2 == 0) :\n",
    "    print('짝수')\n",
    "# else를 걱정할 때는 들여쓰기를 if 문의 들여쓰기와 일치해야함\n",
    "else:\n",
    "    print('홀수')\n"
   ]
  },
  {
   "cell_type": "code",
   "execution_count": null,
   "metadata": {},
   "outputs": [],
   "source": [
    "if(number % 3 == 0')\n",
    "    print(3의 배수입니다.)\n",
    "else:\n"
   ]
  },
  {
   "cell_type": "code",
   "execution_count": null,
   "metadata": {},
   "outputs": [],
   "source": []
  },
  {
   "cell_type": "code",
   "execution_count": null,
   "metadata": {},
   "outputs": [],
   "source": []
  },
  {
   "cell_type": "markdown",
   "metadata": {},
   "source": [
    "### 죄수의 딜레마\n",
    "용의자 (A,B)이 체포됨\n",
    "심문 중 자백 및 침묵을 권유받음\n",
    "1. 둘중 하나만 자배글 하게되면 자백한 사람은 즉시 풀려나고 침묵한 사라믄 10년형\n",
    "2. 둘 다 자백을 하면 모두 5년형\n",
    "3. 둘 다 침묵을 하면 모두 1년형\n",
    "이때 죄수의 선택을 나타내는 변수 XA, XB와 죄수의 복역 연수를 나타내는 변수 YA,YB라 할때\n",
    "XA, XB입력을 받고 YA,YB를 'A'의 복역 연수 : 10, B의 복역연수 : 0' 형태로 출력하시오"
   ]
  },
  {
   "cell_type": "code",
   "execution_count": null,
   "metadata": {},
   "outputs": [],
   "source": [
    "#자백 : True, 침묵 : false\n",
    "XA = bool(input(''))"
   ]
  },
  {
   "cell_type": "code",
   "execution_count": 11,
   "metadata": {},
   "outputs": [
    {
     "data": {
      "text/plain": [
       "''"
      ]
     },
     "execution_count": 11,
     "metadata": {},
     "output_type": "execute_result"
    }
   ],
   "source": [
    "XA = input('A의 선택은?')\n",
    "XA"
   ]
  },
  {
   "cell_type": "code",
   "execution_count": 28,
   "metadata": {},
   "outputs": [
    {
     "name": "stdout",
     "output_type": "stream",
     "text": [
      "A의 복역 연수 : 5, B의 복역 연수 : 5\n"
     ]
    }
   ],
   "source": [
    "# 자백 : True, 침묵 : false\n",
    "XA = bool(input('A의 선택은?'))\n",
    "XB = bool(input('B의 선택은?'))\n",
    "\n",
    "(YA, YB) = (0, 0)\n",
    "if (XA and XB):\n",
    "    YA = 5\n",
    "    YB = 5\n",
    "elif (XA and not XB):\n",
    "    YA = 0\n",
    "    YB = 10\n",
    "elif (not XA and XB):\n",
    "    YA = 10\n",
    "    YB = 0\n",
    "else:\n",
    "    YA = 1\n",
    "    YB = 1\n",
    "\n",
    "print(f'A의 복역 연수 : {YA}, B의 복역 연수 : {YB}')"
   ]
  },
  {
   "cell_type": "markdown",
   "metadata": {},
   "source": [
    "### 반복문\n",
    "'''python\n",
    "for 변수 in range(반복횟수):\n",
    "    반복할 구문\n",
    "'''\n",
    "\n",
    "-range(정수) : 0부터 매개변수로 전달할 정수 -1까지의 정수 리스트를 반환\n",
    "-range(시작정수, 종료정수) : 시작 정수부터 종료 정수 -1까지의 정수 리스트를 반환\n",
    "-range(시작정수, 종료정수, 차이정수) : 시작 정수부터 종료 정수 -1까지의 정수리스트를 반환 차이 정수 만큼인 리스트 반환 "
   ]
  },
  {
   "cell_type": "code",
   "execution_count": 25,
   "metadata": {},
   "outputs": [
    {
     "data": {
      "text/plain": [
       "[0, 1, 2, 3, 4, 5, 6, 7, 8, 9]"
      ]
     },
     "execution_count": 25,
     "metadata": {},
     "output_type": "execute_result"
    }
   ],
   "source": [
    "list(range(10))"
   ]
  },
  {
   "cell_type": "code",
   "execution_count": 24,
   "metadata": {},
   "outputs": [
    {
     "data": {
      "text/plain": [
       "[5, 6, 7, 8, 9]"
      ]
     },
     "execution_count": 24,
     "metadata": {},
     "output_type": "execute_result"
    }
   ],
   "source": [
    "list(range(5, 10))"
   ]
  },
  {
   "cell_type": "code",
   "execution_count": 14,
   "metadata": {},
   "outputs": [
    {
     "data": {
      "text/plain": [
       "[5, 7, 9]"
      ]
     },
     "execution_count": 14,
     "metadata": {},
     "output_type": "execute_result"
    }
   ],
   "source": [
    "list(range(5, 10, 2))"
   ]
  },
  {
   "cell_type": "code",
   "execution_count": 15,
   "metadata": {},
   "outputs": [
    {
     "data": {
      "text/plain": [
       "[10, 9, 8, 7, 6, 5, 4, 3, 2]"
      ]
     },
     "execution_count": 15,
     "metadata": {},
     "output_type": "execute_result"
    }
   ],
   "source": [
    "list(range(10, 1, -1))"
   ]
  },
  {
   "cell_type": "code",
   "execution_count": 16,
   "metadata": {},
   "outputs": [
    {
     "name": "stdout",
     "output_type": "stream",
     "text": [
      "0\n",
      "1\n",
      "2\n",
      "3\n",
      "4\n",
      "5\n",
      "6\n",
      "7\n",
      "8\n",
      "9\n"
     ]
    }
   ],
   "source": [
    "for item in range(10):\n",
    "    print(item)"
   ]
  },
  {
   "cell_type": "code",
   "execution_count": 17,
   "metadata": {},
   "outputs": [
    {
     "name": "stdout",
     "output_type": "stream",
     "text": [
      "10\n",
      "9\n",
      "8\n",
      "7\n",
      "6\n",
      "5\n",
      "4\n",
      "3\n",
      "2\n",
      "1\n"
     ]
    }
   ],
   "source": [
    "for item in range(10, 0, -1):\n",
    "    print(item)"
   ]
  },
  {
   "cell_type": "code",
   "execution_count": 18,
   "metadata": {},
   "outputs": [
    {
     "name": "stdout",
     "output_type": "stream",
     "text": [
      "item1 : 0 / item2 : 0\n",
      "item1 : 0 / item2 : 1\n",
      "item1 : 0 / item2 : 2\n",
      "item1 : 0 / item2 : 3\n",
      "item1 : 0 / item2 : 4\n",
      "item1 : 0 / item2 : 5\n",
      "item1 : 0 / item2 : 6\n",
      "item1 : 0 / item2 : 7\n",
      "item1 : 0 / item2 : 8\n",
      "item1 : 0 / item2 : 9\n",
      "item1 : 1 / item2 : 0\n",
      "item1 : 1 / item2 : 1\n",
      "item1 : 1 / item2 : 2\n",
      "item1 : 1 / item2 : 3\n",
      "item1 : 1 / item2 : 4\n",
      "item1 : 1 / item2 : 5\n",
      "item1 : 1 / item2 : 6\n",
      "item1 : 1 / item2 : 7\n",
      "item1 : 1 / item2 : 8\n",
      "item1 : 1 / item2 : 9\n",
      "item1 : 2 / item2 : 0\n",
      "item1 : 2 / item2 : 1\n",
      "item1 : 2 / item2 : 2\n",
      "item1 : 2 / item2 : 3\n",
      "item1 : 2 / item2 : 4\n",
      "item1 : 2 / item2 : 5\n",
      "item1 : 2 / item2 : 6\n",
      "item1 : 2 / item2 : 7\n",
      "item1 : 2 / item2 : 8\n",
      "item1 : 2 / item2 : 9\n",
      "item1 : 3 / item2 : 0\n",
      "item1 : 3 / item2 : 1\n",
      "item1 : 3 / item2 : 2\n",
      "item1 : 3 / item2 : 3\n",
      "item1 : 3 / item2 : 4\n",
      "item1 : 3 / item2 : 5\n",
      "item1 : 3 / item2 : 6\n",
      "item1 : 3 / item2 : 7\n",
      "item1 : 3 / item2 : 8\n",
      "item1 : 3 / item2 : 9\n",
      "item1 : 4 / item2 : 0\n",
      "item1 : 4 / item2 : 1\n",
      "item1 : 4 / item2 : 2\n",
      "item1 : 4 / item2 : 3\n",
      "item1 : 4 / item2 : 4\n",
      "item1 : 4 / item2 : 5\n",
      "item1 : 4 / item2 : 6\n",
      "item1 : 4 / item2 : 7\n",
      "item1 : 4 / item2 : 8\n",
      "item1 : 4 / item2 : 9\n",
      "item1 : 5 / item2 : 0\n",
      "item1 : 5 / item2 : 1\n",
      "item1 : 5 / item2 : 2\n",
      "item1 : 5 / item2 : 3\n",
      "item1 : 5 / item2 : 4\n",
      "item1 : 5 / item2 : 5\n",
      "item1 : 5 / item2 : 6\n",
      "item1 : 5 / item2 : 7\n",
      "item1 : 5 / item2 : 8\n",
      "item1 : 5 / item2 : 9\n",
      "item1 : 6 / item2 : 0\n",
      "item1 : 6 / item2 : 1\n",
      "item1 : 6 / item2 : 2\n",
      "item1 : 6 / item2 : 3\n",
      "item1 : 6 / item2 : 4\n",
      "item1 : 6 / item2 : 5\n",
      "item1 : 6 / item2 : 6\n",
      "item1 : 6 / item2 : 7\n",
      "item1 : 6 / item2 : 8\n",
      "item1 : 6 / item2 : 9\n",
      "item1 : 7 / item2 : 0\n",
      "item1 : 7 / item2 : 1\n",
      "item1 : 7 / item2 : 2\n",
      "item1 : 7 / item2 : 3\n",
      "item1 : 7 / item2 : 4\n",
      "item1 : 7 / item2 : 5\n",
      "item1 : 7 / item2 : 6\n",
      "item1 : 7 / item2 : 7\n",
      "item1 : 7 / item2 : 8\n",
      "item1 : 7 / item2 : 9\n",
      "item1 : 8 / item2 : 0\n",
      "item1 : 8 / item2 : 1\n",
      "item1 : 8 / item2 : 2\n",
      "item1 : 8 / item2 : 3\n",
      "item1 : 8 / item2 : 4\n",
      "item1 : 8 / item2 : 5\n",
      "item1 : 8 / item2 : 6\n",
      "item1 : 8 / item2 : 7\n",
      "item1 : 8 / item2 : 8\n",
      "item1 : 8 / item2 : 9\n",
      "item1 : 9 / item2 : 0\n",
      "item1 : 9 / item2 : 1\n",
      "item1 : 9 / item2 : 2\n",
      "item1 : 9 / item2 : 3\n",
      "item1 : 9 / item2 : 4\n",
      "item1 : 9 / item2 : 5\n",
      "item1 : 9 / item2 : 6\n",
      "item1 : 9 / item2 : 7\n",
      "item1 : 9 / item2 : 8\n",
      "item1 : 9 / item2 : 9\n"
     ]
    }
   ],
   "source": [
    "for item1 in range(10):\n",
    "    for item2 in range(10):\n",
    "        print(f'item1 : {item1} / item2 : {item2}')"
   ]
  },
  {
   "cell_type": "code",
   "execution_count": 19,
   "metadata": {},
   "outputs": [
    {
     "name": "stdout",
     "output_type": "stream",
     "text": [
      "*\n",
      "*\n",
      "*\n",
      "*\n",
      "*\n",
      "*\n",
      "*\n",
      "*\n",
      "*\n",
      "*\n",
      "*\n",
      "*\n",
      "*\n",
      "*\n",
      "*\n",
      "*\n",
      "*\n",
      "*\n",
      "*\n"
     ]
    }
   ],
   "source": [
    "for count in range(19):\n",
    "    print('*')"
   ]
  },
  {
   "cell_type": "code",
   "execution_count": 20,
   "metadata": {},
   "outputs": [
    {
     "name": "stdout",
     "output_type": "stream",
     "text": [
      "*\n",
      "**\n",
      "***\n",
      "****\n",
      "*****\n",
      "******\n",
      "*******\n",
      "********\n",
      "*********\n",
      "**********\n",
      "***********\n",
      "************\n",
      "*************\n",
      "**************\n",
      "***************\n",
      "****************\n",
      "*****************\n",
      "******************\n",
      "*******************\n"
     ]
    }
   ],
   "source": [
    "for count in range(1, 20):\n",
    "    print('*' * count)"
   ]
  },
  {
   "cell_type": "code",
   "execution_count": null,
   "metadata": {},
   "outputs": [],
   "source": [
    "F"
   ]
  },
  {
   "cell_type": "code",
   "execution_count": 22,
   "metadata": {},
   "outputs": [
    {
     "name": "stdout",
     "output_type": "stream",
     "text": [
      "*\n",
      "**\n",
      "***\n",
      "****\n",
      "*****\n",
      "******\n",
      "*******\n",
      "********\n",
      "*********\n",
      "**********\n",
      "*********\n",
      "********\n",
      "*******\n",
      "******\n",
      "*****\n",
      "****\n",
      "***\n",
      "**\n",
      "*\n"
     ]
    }
   ],
   "source": [
    "BASE_COUNT = 20\n",
    "START = 1\n",
    "CHARACTER = '*'\n",
    "\n",
    "for count in range(1, BASE_COUNT):\n",
    "    if (count <= (BASE_COUNT / 2)):\n",
    "        print(CHARACTER * count)\n",
    "    else:\n",
    "        print(CHARACTER * (20 - count))\n",
    "    "
   ]
  },
  {
   "cell_type": "code",
   "execution_count": null,
   "metadata": {},
   "outputs": [],
   "source": []
  }
 ],
 "metadata": {
  "kernelspec": {
   "display_name": "Python 3",
   "language": "python",
   "name": "python3"
  },
  "language_info": {
   "codemirror_mode": {
    "name": "ipython",
    "version": 3
   },
   "file_extension": ".py",
   "mimetype": "text/x-python",
   "name": "python",
   "nbconvert_exporter": "python",
   "pygments_lexer": "ipython3",
   "version": "3.12.4"
  }
 },
 "nbformat": 4,
 "nbformat_minor": 2
}
